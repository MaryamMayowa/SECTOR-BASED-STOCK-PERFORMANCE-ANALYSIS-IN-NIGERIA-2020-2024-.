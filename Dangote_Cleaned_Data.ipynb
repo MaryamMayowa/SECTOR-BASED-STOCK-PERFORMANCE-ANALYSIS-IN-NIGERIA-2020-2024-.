{
 "cells": [
  {
   "cell_type": "markdown",
   "id": "819e8ccd-8e7a-4fe9-aa0a-0319e073bf72",
   "metadata": {},
   "source": []
  },
  {
   "cell_type": "code",
   "execution_count": 1,
   "id": "3deee751-4a94-4435-bb77-448304059b07",
   "metadata": {},
   "outputs": [],
   "source": [
    "import pandas as pd\n",
    "import numpy as np\n",
    "import matplotlib as plt"
   ]
  },
  {
   "cell_type": "code",
   "execution_count": 2,
   "id": "7c2aa9d7-dd98-4b39-be3e-53e1ff756b94",
   "metadata": {},
   "outputs": [
    {
     "name": "stdout",
     "output_type": "stream",
     "text": [
      "            Date  Price   Open   High    Low     Vol. Change %\n",
      "0     12/31/2024  478.8  478.8  478.8  478.8   18.28K    0.00%\n",
      "1     12/30/2024  478.8  478.8  478.8  478.8  222.45K    0.00%\n",
      "2     12/27/2024  478.8  478.8  478.8  478.8   42.38K    0.00%\n",
      "3     12/24/2024  478.8  478.8  478.8  478.8   30.49K    0.00%\n",
      "4     12/23/2024  478.8  478.8  478.8  478.8   57.98K    0.00%\n",
      "...          ...    ...    ...    ...    ...      ...      ...\n",
      "1234    1/8/2020  164.0  150.0  164.0  154.1    3.16M    9.33%\n",
      "1235    1/7/2020  150.0  146.0  152.0  146.1    4.69M    2.74%\n",
      "1236    1/6/2020  146.0  142.0  146.0  143.0    2.58M    2.82%\n",
      "1237    1/3/2020  142.0  142.0  142.0  142.0    1.53M    0.00%\n",
      "1238    1/2/2020  142.0  142.0  142.0  142.0    1.87M    0.00%\n",
      "\n",
      "[1239 rows x 7 columns]\n"
     ]
    }
   ],
   "source": [
    "dangote_df= pd.read_csv('Dangote Cement Stock Price History.csv')\n",
    "print (dangote_df)"
   ]
  },
  {
   "cell_type": "code",
   "execution_count": 3,
   "id": "1b545b65-6cf8-4ca1-9f82-7aa760639264",
   "metadata": {},
   "outputs": [
    {
     "data": {
      "text/html": [
       "<div>\n",
       "<style scoped>\n",
       "    .dataframe tbody tr th:only-of-type {\n",
       "        vertical-align: middle;\n",
       "    }\n",
       "\n",
       "    .dataframe tbody tr th {\n",
       "        vertical-align: top;\n",
       "    }\n",
       "\n",
       "    .dataframe thead th {\n",
       "        text-align: right;\n",
       "    }\n",
       "</style>\n",
       "<table border=\"1\" class=\"dataframe\">\n",
       "  <thead>\n",
       "    <tr style=\"text-align: right;\">\n",
       "      <th></th>\n",
       "      <th>Date</th>\n",
       "      <th>Price</th>\n",
       "      <th>Open</th>\n",
       "      <th>High</th>\n",
       "      <th>Low</th>\n",
       "      <th>Vol.</th>\n",
       "      <th>Change %</th>\n",
       "    </tr>\n",
       "  </thead>\n",
       "  <tbody>\n",
       "    <tr>\n",
       "      <th>0</th>\n",
       "      <td>12/31/2024</td>\n",
       "      <td>478.8</td>\n",
       "      <td>478.8</td>\n",
       "      <td>478.8</td>\n",
       "      <td>478.8</td>\n",
       "      <td>18.28K</td>\n",
       "      <td>0.00%</td>\n",
       "    </tr>\n",
       "    <tr>\n",
       "      <th>1</th>\n",
       "      <td>12/30/2024</td>\n",
       "      <td>478.8</td>\n",
       "      <td>478.8</td>\n",
       "      <td>478.8</td>\n",
       "      <td>478.8</td>\n",
       "      <td>222.45K</td>\n",
       "      <td>0.00%</td>\n",
       "    </tr>\n",
       "    <tr>\n",
       "      <th>2</th>\n",
       "      <td>12/27/2024</td>\n",
       "      <td>478.8</td>\n",
       "      <td>478.8</td>\n",
       "      <td>478.8</td>\n",
       "      <td>478.8</td>\n",
       "      <td>42.38K</td>\n",
       "      <td>0.00%</td>\n",
       "    </tr>\n",
       "    <tr>\n",
       "      <th>3</th>\n",
       "      <td>12/24/2024</td>\n",
       "      <td>478.8</td>\n",
       "      <td>478.8</td>\n",
       "      <td>478.8</td>\n",
       "      <td>478.8</td>\n",
       "      <td>30.49K</td>\n",
       "      <td>0.00%</td>\n",
       "    </tr>\n",
       "    <tr>\n",
       "      <th>4</th>\n",
       "      <td>12/23/2024</td>\n",
       "      <td>478.8</td>\n",
       "      <td>478.8</td>\n",
       "      <td>478.8</td>\n",
       "      <td>478.8</td>\n",
       "      <td>57.98K</td>\n",
       "      <td>0.00%</td>\n",
       "    </tr>\n",
       "  </tbody>\n",
       "</table>\n",
       "</div>"
      ],
      "text/plain": [
       "         Date  Price   Open   High    Low     Vol. Change %\n",
       "0  12/31/2024  478.8  478.8  478.8  478.8   18.28K    0.00%\n",
       "1  12/30/2024  478.8  478.8  478.8  478.8  222.45K    0.00%\n",
       "2  12/27/2024  478.8  478.8  478.8  478.8   42.38K    0.00%\n",
       "3  12/24/2024  478.8  478.8  478.8  478.8   30.49K    0.00%\n",
       "4  12/23/2024  478.8  478.8  478.8  478.8   57.98K    0.00%"
      ]
     },
     "execution_count": 3,
     "metadata": {},
     "output_type": "execute_result"
    }
   ],
   "source": [
    "### Shows the first  row\n",
    "\n",
    "dangote_df.head()"
   ]
  },
  {
   "cell_type": "code",
   "execution_count": 4,
   "id": "0c95907b-3177-4aa5-8dcd-59950e7bbada",
   "metadata": {},
   "outputs": [
    {
     "data": {
      "text/html": [
       "<div>\n",
       "<style scoped>\n",
       "    .dataframe tbody tr th:only-of-type {\n",
       "        vertical-align: middle;\n",
       "    }\n",
       "\n",
       "    .dataframe tbody tr th {\n",
       "        vertical-align: top;\n",
       "    }\n",
       "\n",
       "    .dataframe thead th {\n",
       "        text-align: right;\n",
       "    }\n",
       "</style>\n",
       "<table border=\"1\" class=\"dataframe\">\n",
       "  <thead>\n",
       "    <tr style=\"text-align: right;\">\n",
       "      <th></th>\n",
       "      <th>Date</th>\n",
       "      <th>Price</th>\n",
       "      <th>Open</th>\n",
       "      <th>High</th>\n",
       "      <th>Low</th>\n",
       "      <th>Vol.</th>\n",
       "      <th>Change %</th>\n",
       "    </tr>\n",
       "  </thead>\n",
       "  <tbody>\n",
       "    <tr>\n",
       "      <th>1234</th>\n",
       "      <td>1/8/2020</td>\n",
       "      <td>164.0</td>\n",
       "      <td>150.0</td>\n",
       "      <td>164.0</td>\n",
       "      <td>154.1</td>\n",
       "      <td>3.16M</td>\n",
       "      <td>9.33%</td>\n",
       "    </tr>\n",
       "    <tr>\n",
       "      <th>1235</th>\n",
       "      <td>1/7/2020</td>\n",
       "      <td>150.0</td>\n",
       "      <td>146.0</td>\n",
       "      <td>152.0</td>\n",
       "      <td>146.1</td>\n",
       "      <td>4.69M</td>\n",
       "      <td>2.74%</td>\n",
       "    </tr>\n",
       "    <tr>\n",
       "      <th>1236</th>\n",
       "      <td>1/6/2020</td>\n",
       "      <td>146.0</td>\n",
       "      <td>142.0</td>\n",
       "      <td>146.0</td>\n",
       "      <td>143.0</td>\n",
       "      <td>2.58M</td>\n",
       "      <td>2.82%</td>\n",
       "    </tr>\n",
       "    <tr>\n",
       "      <th>1237</th>\n",
       "      <td>1/3/2020</td>\n",
       "      <td>142.0</td>\n",
       "      <td>142.0</td>\n",
       "      <td>142.0</td>\n",
       "      <td>142.0</td>\n",
       "      <td>1.53M</td>\n",
       "      <td>0.00%</td>\n",
       "    </tr>\n",
       "    <tr>\n",
       "      <th>1238</th>\n",
       "      <td>1/2/2020</td>\n",
       "      <td>142.0</td>\n",
       "      <td>142.0</td>\n",
       "      <td>142.0</td>\n",
       "      <td>142.0</td>\n",
       "      <td>1.87M</td>\n",
       "      <td>0.00%</td>\n",
       "    </tr>\n",
       "  </tbody>\n",
       "</table>\n",
       "</div>"
      ],
      "text/plain": [
       "          Date  Price   Open   High    Low   Vol. Change %\n",
       "1234  1/8/2020  164.0  150.0  164.0  154.1  3.16M    9.33%\n",
       "1235  1/7/2020  150.0  146.0  152.0  146.1  4.69M    2.74%\n",
       "1236  1/6/2020  146.0  142.0  146.0  143.0  2.58M    2.82%\n",
       "1237  1/3/2020  142.0  142.0  142.0  142.0  1.53M    0.00%\n",
       "1238  1/2/2020  142.0  142.0  142.0  142.0  1.87M    0.00%"
      ]
     },
     "execution_count": 4,
     "metadata": {},
     "output_type": "execute_result"
    }
   ],
   "source": [
    "### Shows the last rows\n",
    "\n",
    "dangote_df.tail()"
   ]
  },
  {
   "cell_type": "code",
   "execution_count": 5,
   "id": "de17fad5-074c-4fec-8557-669571e8fdb6",
   "metadata": {},
   "outputs": [
    {
     "data": {
      "text/plain": [
       "(1239, 7)"
      ]
     },
     "execution_count": 5,
     "metadata": {},
     "output_type": "execute_result"
    }
   ],
   "source": [
    "### Shows number of rows and columns\n",
    "\n",
    "dangote_df.shape"
   ]
  },
  {
   "cell_type": "code",
   "execution_count": 6,
   "id": "e06c5cee-0f6d-44f0-b129-aef3b26a22b9",
   "metadata": {},
   "outputs": [
    {
     "data": {
      "text/plain": [
       "<bound method NDFrame.describe of             Date  Price   Open   High    Low     Vol. Change %\n",
       "0     12/31/2024  478.8  478.8  478.8  478.8   18.28K    0.00%\n",
       "1     12/30/2024  478.8  478.8  478.8  478.8  222.45K    0.00%\n",
       "2     12/27/2024  478.8  478.8  478.8  478.8   42.38K    0.00%\n",
       "3     12/24/2024  478.8  478.8  478.8  478.8   30.49K    0.00%\n",
       "4     12/23/2024  478.8  478.8  478.8  478.8   57.98K    0.00%\n",
       "...          ...    ...    ...    ...    ...      ...      ...\n",
       "1234    1/8/2020  164.0  150.0  164.0  154.1    3.16M    9.33%\n",
       "1235    1/7/2020  150.0  146.0  152.0  146.1    4.69M    2.74%\n",
       "1236    1/6/2020  146.0  142.0  146.0  143.0    2.58M    2.82%\n",
       "1237    1/3/2020  142.0  142.0  142.0  142.0    1.53M    0.00%\n",
       "1238    1/2/2020  142.0  142.0  142.0  142.0    1.87M    0.00%\n",
       "\n",
       "[1239 rows x 7 columns]>"
      ]
     },
     "execution_count": 6,
     "metadata": {},
     "output_type": "execute_result"
    }
   ],
   "source": [
    "### Shows data statistics\n",
    "\n",
    "dangote_df.describe"
   ]
  },
  {
   "cell_type": "code",
   "execution_count": 7,
   "id": "e0df7182-8931-42f3-a2aa-ea3f125de9ac",
   "metadata": {},
   "outputs": [
    {
     "data": {
      "text/plain": [
       "Index(['Date', 'Price', 'Open', 'High', 'Low', 'Vol.', 'Change %'], dtype='object')"
      ]
     },
     "execution_count": 7,
     "metadata": {},
     "output_type": "execute_result"
    }
   ],
   "source": [
    "### Shows column names\n",
    "\n",
    "dangote_df.columns"
   ]
  },
  {
   "cell_type": "code",
   "execution_count": 8,
   "id": "9a012196-3cdc-45b4-a082-26c00acf3ac4",
   "metadata": {},
   "outputs": [
    {
     "data": {
      "text/plain": [
       "Date         object\n",
       "Price       float64\n",
       "Open        float64\n",
       "High        float64\n",
       "Low         float64\n",
       "Vol.         object\n",
       "Change %     object\n",
       "dtype: object"
      ]
     },
     "execution_count": 8,
     "metadata": {},
     "output_type": "execute_result"
    }
   ],
   "source": [
    "### Shows datatypes of each column\n",
    "\n",
    "dangote_df.dtypes"
   ]
  },
  {
   "cell_type": "code",
   "execution_count": 9,
   "id": "4868002b-cfc7-4a54-b65c-c5ec4380d907",
   "metadata": {},
   "outputs": [
    {
     "data": {
      "text/html": [
       "<div>\n",
       "<style scoped>\n",
       "    .dataframe tbody tr th:only-of-type {\n",
       "        vertical-align: middle;\n",
       "    }\n",
       "\n",
       "    .dataframe tbody tr th {\n",
       "        vertical-align: top;\n",
       "    }\n",
       "\n",
       "    .dataframe thead th {\n",
       "        text-align: right;\n",
       "    }\n",
       "</style>\n",
       "<table border=\"1\" class=\"dataframe\">\n",
       "  <thead>\n",
       "    <tr style=\"text-align: right;\">\n",
       "      <th></th>\n",
       "      <th>Date</th>\n",
       "      <th>Price</th>\n",
       "      <th>Open</th>\n",
       "      <th>High</th>\n",
       "      <th>Low</th>\n",
       "      <th>Vol.</th>\n",
       "      <th>Change %</th>\n",
       "    </tr>\n",
       "  </thead>\n",
       "  <tbody>\n",
       "    <tr>\n",
       "      <th>0</th>\n",
       "      <td>False</td>\n",
       "      <td>False</td>\n",
       "      <td>False</td>\n",
       "      <td>False</td>\n",
       "      <td>False</td>\n",
       "      <td>False</td>\n",
       "      <td>False</td>\n",
       "    </tr>\n",
       "    <tr>\n",
       "      <th>1</th>\n",
       "      <td>False</td>\n",
       "      <td>False</td>\n",
       "      <td>False</td>\n",
       "      <td>False</td>\n",
       "      <td>False</td>\n",
       "      <td>False</td>\n",
       "      <td>False</td>\n",
       "    </tr>\n",
       "    <tr>\n",
       "      <th>2</th>\n",
       "      <td>False</td>\n",
       "      <td>False</td>\n",
       "      <td>False</td>\n",
       "      <td>False</td>\n",
       "      <td>False</td>\n",
       "      <td>False</td>\n",
       "      <td>False</td>\n",
       "    </tr>\n",
       "    <tr>\n",
       "      <th>3</th>\n",
       "      <td>False</td>\n",
       "      <td>False</td>\n",
       "      <td>False</td>\n",
       "      <td>False</td>\n",
       "      <td>False</td>\n",
       "      <td>False</td>\n",
       "      <td>False</td>\n",
       "    </tr>\n",
       "    <tr>\n",
       "      <th>4</th>\n",
       "      <td>False</td>\n",
       "      <td>False</td>\n",
       "      <td>False</td>\n",
       "      <td>False</td>\n",
       "      <td>False</td>\n",
       "      <td>False</td>\n",
       "      <td>False</td>\n",
       "    </tr>\n",
       "    <tr>\n",
       "      <th>...</th>\n",
       "      <td>...</td>\n",
       "      <td>...</td>\n",
       "      <td>...</td>\n",
       "      <td>...</td>\n",
       "      <td>...</td>\n",
       "      <td>...</td>\n",
       "      <td>...</td>\n",
       "    </tr>\n",
       "    <tr>\n",
       "      <th>1234</th>\n",
       "      <td>False</td>\n",
       "      <td>False</td>\n",
       "      <td>False</td>\n",
       "      <td>False</td>\n",
       "      <td>False</td>\n",
       "      <td>False</td>\n",
       "      <td>False</td>\n",
       "    </tr>\n",
       "    <tr>\n",
       "      <th>1235</th>\n",
       "      <td>False</td>\n",
       "      <td>False</td>\n",
       "      <td>False</td>\n",
       "      <td>False</td>\n",
       "      <td>False</td>\n",
       "      <td>False</td>\n",
       "      <td>False</td>\n",
       "    </tr>\n",
       "    <tr>\n",
       "      <th>1236</th>\n",
       "      <td>False</td>\n",
       "      <td>False</td>\n",
       "      <td>False</td>\n",
       "      <td>False</td>\n",
       "      <td>False</td>\n",
       "      <td>False</td>\n",
       "      <td>False</td>\n",
       "    </tr>\n",
       "    <tr>\n",
       "      <th>1237</th>\n",
       "      <td>False</td>\n",
       "      <td>False</td>\n",
       "      <td>False</td>\n",
       "      <td>False</td>\n",
       "      <td>False</td>\n",
       "      <td>False</td>\n",
       "      <td>False</td>\n",
       "    </tr>\n",
       "    <tr>\n",
       "      <th>1238</th>\n",
       "      <td>False</td>\n",
       "      <td>False</td>\n",
       "      <td>False</td>\n",
       "      <td>False</td>\n",
       "      <td>False</td>\n",
       "      <td>False</td>\n",
       "      <td>False</td>\n",
       "    </tr>\n",
       "  </tbody>\n",
       "</table>\n",
       "<p>1239 rows × 7 columns</p>\n",
       "</div>"
      ],
      "text/plain": [
       "       Date  Price   Open   High    Low   Vol.  Change %\n",
       "0     False  False  False  False  False  False     False\n",
       "1     False  False  False  False  False  False     False\n",
       "2     False  False  False  False  False  False     False\n",
       "3     False  False  False  False  False  False     False\n",
       "4     False  False  False  False  False  False     False\n",
       "...     ...    ...    ...    ...    ...    ...       ...\n",
       "1234  False  False  False  False  False  False     False\n",
       "1235  False  False  False  False  False  False     False\n",
       "1236  False  False  False  False  False  False     False\n",
       "1237  False  False  False  False  False  False     False\n",
       "1238  False  False  False  False  False  False     False\n",
       "\n",
       "[1239 rows x 7 columns]"
      ]
     },
     "execution_count": 9,
     "metadata": {},
     "output_type": "execute_result"
    }
   ],
   "source": [
    "### Shows where values are missing\n",
    "\n",
    "dangote_df.isnull()"
   ]
  },
  {
   "cell_type": "code",
   "execution_count": 10,
   "id": "6177f4cd-818d-4ac0-966b-acaba1afdac9",
   "metadata": {},
   "outputs": [
    {
     "data": {
      "text/plain": [
       "Date        0\n",
       "Price       0\n",
       "Open        0\n",
       "High        0\n",
       "Low         0\n",
       "Vol.        0\n",
       "Change %    0\n",
       "dtype: int64"
      ]
     },
     "execution_count": 10,
     "metadata": {},
     "output_type": "execute_result"
    }
   ],
   "source": [
    "### Shows missing values\n",
    "\n",
    "dangote_df.isnull().sum()"
   ]
  },
  {
   "cell_type": "code",
   "execution_count": 11,
   "id": "836944f4-d33f-4779-a79a-7fdf98d44bef",
   "metadata": {},
   "outputs": [
    {
     "data": {
      "text/plain": [
       "0       False\n",
       "1       False\n",
       "2       False\n",
       "3       False\n",
       "4       False\n",
       "        ...  \n",
       "1234    False\n",
       "1235    False\n",
       "1236    False\n",
       "1237    False\n",
       "1238    False\n",
       "Length: 1239, dtype: bool"
      ]
     },
     "execution_count": 11,
     "metadata": {},
     "output_type": "execute_result"
    }
   ],
   "source": [
    "### Shows duplicates\n",
    "\n",
    "dangote_df.duplicated()"
   ]
  },
  {
   "cell_type": "code",
   "execution_count": 12,
   "id": "5944c950-8436-4f94-ab5f-4cfd9fe77161",
   "metadata": {},
   "outputs": [
    {
     "data": {
      "text/plain": [
       "0"
      ]
     },
     "execution_count": 12,
     "metadata": {},
     "output_type": "execute_result"
    }
   ],
   "source": [
    "### Counts duplicated rows\n",
    "\n",
    "dangote_df.duplicated().sum()"
   ]
  },
  {
   "cell_type": "code",
   "execution_count": 13,
   "id": "771c2216-0979-4a7a-b13a-5b276f833087",
   "metadata": {},
   "outputs": [],
   "source": [
    "### Coverting Date column to Date Data Type\n",
    "\n",
    "dangote_df['Date']=pd.to_datetime(dangote_df['Date'])"
   ]
  },
  {
   "cell_type": "code",
   "execution_count": 14,
   "id": "4eb60210-5047-4af5-9b6b-52850f2efc42",
   "metadata": {},
   "outputs": [],
   "source": [
    "### Setting date as index\n",
    "\n",
    "dangote_df.set_index('Date', inplace=True)"
   ]
  },
  {
   "cell_type": "code",
   "execution_count": 15,
   "id": "dfa27c29-eb0b-4334-b101-29375bd4b3d6",
   "metadata": {},
   "outputs": [],
   "source": [
    "### Removing Spaces(Trim) in columns\n",
    "\n",
    "dangote_df.columns= dangote_df.columns.str.strip()"
   ]
  },
  {
   "cell_type": "code",
   "execution_count": 16,
   "id": "8f7fc060-99c8-471f-b959-79b511b5ddab",
   "metadata": {},
   "outputs": [
    {
     "data": {
      "text/plain": [
       "Index(['Price', 'Open', 'High', 'Low', 'Vol.', 'Change %'], dtype='object')"
      ]
     },
     "execution_count": 16,
     "metadata": {},
     "output_type": "execute_result"
    }
   ],
   "source": [
    "### Shows column name\n",
    "\n",
    "dangote_df.columns"
   ]
  },
  {
   "cell_type": "code",
   "execution_count": 17,
   "id": "59469922-4473-4636-9743-0e9058be9e94",
   "metadata": {},
   "outputs": [],
   "source": [
    "### Dropping the Change(%) column.\n",
    "\n",
    "dangote_df= dangote_df.drop(columns=['Change %'])"
   ]
  },
  {
   "cell_type": "code",
   "execution_count": 18,
   "id": "dd8f42dc-6db3-488d-9fc2-b5ded693b742",
   "metadata": {},
   "outputs": [
    {
     "data": {
      "text/html": [
       "<div>\n",
       "<style scoped>\n",
       "    .dataframe tbody tr th:only-of-type {\n",
       "        vertical-align: middle;\n",
       "    }\n",
       "\n",
       "    .dataframe tbody tr th {\n",
       "        vertical-align: top;\n",
       "    }\n",
       "\n",
       "    .dataframe thead th {\n",
       "        text-align: right;\n",
       "    }\n",
       "</style>\n",
       "<table border=\"1\" class=\"dataframe\">\n",
       "  <thead>\n",
       "    <tr style=\"text-align: right;\">\n",
       "      <th></th>\n",
       "      <th>Price</th>\n",
       "      <th>Open</th>\n",
       "      <th>High</th>\n",
       "      <th>Low</th>\n",
       "      <th>Vol.</th>\n",
       "    </tr>\n",
       "    <tr>\n",
       "      <th>Date</th>\n",
       "      <th></th>\n",
       "      <th></th>\n",
       "      <th></th>\n",
       "      <th></th>\n",
       "      <th></th>\n",
       "    </tr>\n",
       "  </thead>\n",
       "  <tbody>\n",
       "    <tr>\n",
       "      <th>2024-12-31</th>\n",
       "      <td>478.8</td>\n",
       "      <td>478.8</td>\n",
       "      <td>478.8</td>\n",
       "      <td>478.8</td>\n",
       "      <td>18.28K</td>\n",
       "    </tr>\n",
       "    <tr>\n",
       "      <th>2024-12-30</th>\n",
       "      <td>478.8</td>\n",
       "      <td>478.8</td>\n",
       "      <td>478.8</td>\n",
       "      <td>478.8</td>\n",
       "      <td>222.45K</td>\n",
       "    </tr>\n",
       "    <tr>\n",
       "      <th>2024-12-27</th>\n",
       "      <td>478.8</td>\n",
       "      <td>478.8</td>\n",
       "      <td>478.8</td>\n",
       "      <td>478.8</td>\n",
       "      <td>42.38K</td>\n",
       "    </tr>\n",
       "    <tr>\n",
       "      <th>2024-12-24</th>\n",
       "      <td>478.8</td>\n",
       "      <td>478.8</td>\n",
       "      <td>478.8</td>\n",
       "      <td>478.8</td>\n",
       "      <td>30.49K</td>\n",
       "    </tr>\n",
       "    <tr>\n",
       "      <th>2024-12-23</th>\n",
       "      <td>478.8</td>\n",
       "      <td>478.8</td>\n",
       "      <td>478.8</td>\n",
       "      <td>478.8</td>\n",
       "      <td>57.98K</td>\n",
       "    </tr>\n",
       "    <tr>\n",
       "      <th>...</th>\n",
       "      <td>...</td>\n",
       "      <td>...</td>\n",
       "      <td>...</td>\n",
       "      <td>...</td>\n",
       "      <td>...</td>\n",
       "    </tr>\n",
       "    <tr>\n",
       "      <th>2020-01-08</th>\n",
       "      <td>164.0</td>\n",
       "      <td>150.0</td>\n",
       "      <td>164.0</td>\n",
       "      <td>154.1</td>\n",
       "      <td>3.16M</td>\n",
       "    </tr>\n",
       "    <tr>\n",
       "      <th>2020-01-07</th>\n",
       "      <td>150.0</td>\n",
       "      <td>146.0</td>\n",
       "      <td>152.0</td>\n",
       "      <td>146.1</td>\n",
       "      <td>4.69M</td>\n",
       "    </tr>\n",
       "    <tr>\n",
       "      <th>2020-01-06</th>\n",
       "      <td>146.0</td>\n",
       "      <td>142.0</td>\n",
       "      <td>146.0</td>\n",
       "      <td>143.0</td>\n",
       "      <td>2.58M</td>\n",
       "    </tr>\n",
       "    <tr>\n",
       "      <th>2020-01-03</th>\n",
       "      <td>142.0</td>\n",
       "      <td>142.0</td>\n",
       "      <td>142.0</td>\n",
       "      <td>142.0</td>\n",
       "      <td>1.53M</td>\n",
       "    </tr>\n",
       "    <tr>\n",
       "      <th>2020-01-02</th>\n",
       "      <td>142.0</td>\n",
       "      <td>142.0</td>\n",
       "      <td>142.0</td>\n",
       "      <td>142.0</td>\n",
       "      <td>1.87M</td>\n",
       "    </tr>\n",
       "  </tbody>\n",
       "</table>\n",
       "<p>1239 rows × 5 columns</p>\n",
       "</div>"
      ],
      "text/plain": [
       "            Price   Open   High    Low     Vol.\n",
       "Date                                           \n",
       "2024-12-31  478.8  478.8  478.8  478.8   18.28K\n",
       "2024-12-30  478.8  478.8  478.8  478.8  222.45K\n",
       "2024-12-27  478.8  478.8  478.8  478.8   42.38K\n",
       "2024-12-24  478.8  478.8  478.8  478.8   30.49K\n",
       "2024-12-23  478.8  478.8  478.8  478.8   57.98K\n",
       "...           ...    ...    ...    ...      ...\n",
       "2020-01-08  164.0  150.0  164.0  154.1    3.16M\n",
       "2020-01-07  150.0  146.0  152.0  146.1    4.69M\n",
       "2020-01-06  146.0  142.0  146.0  143.0    2.58M\n",
       "2020-01-03  142.0  142.0  142.0  142.0    1.53M\n",
       "2020-01-02  142.0  142.0  142.0  142.0    1.87M\n",
       "\n",
       "[1239 rows x 5 columns]"
      ]
     },
     "execution_count": 18,
     "metadata": {},
     "output_type": "execute_result"
    }
   ],
   "source": [
    "### Calling my variables to see changes reflected.\n",
    "dangote_df"
   ]
  },
  {
   "cell_type": "code",
   "execution_count": 19,
   "id": "206f2d4a-dd1b-4ce6-a864-8d520e605172",
   "metadata": {},
   "outputs": [
    {
     "name": "stdout",
     "output_type": "stream",
     "text": [
      "index type: datetime64[ns]\n"
     ]
    }
   ],
   "source": [
    "### Checking my date index datatype\n",
    "\n",
    "print(\"index type:\",dangote_df.index.dtype)"
   ]
  },
  {
   "cell_type": "code",
   "execution_count": 20,
   "id": "4b181010-3875-4fea-9c8c-1f798e10d544",
   "metadata": {},
   "outputs": [
    {
     "data": {
      "text/plain": [
       "Price    float64\n",
       "Open     float64\n",
       "High     float64\n",
       "Low      float64\n",
       "Vol.      object\n",
       "dtype: object"
      ]
     },
     "execution_count": 20,
     "metadata": {},
     "output_type": "execute_result"
    }
   ],
   "source": [
    "dangote_df.dtypes"
   ]
  },
  {
   "cell_type": "code",
   "execution_count": 21,
   "id": "51429f53-b3c7-4864-9149-55070311a784",
   "metadata": {},
   "outputs": [],
   "source": [
    "# Cleaning and converting the values in the Volume column\n",
    "\n",
    "\n",
    "dangote_df['Vol.'] = dangote_df['Vol.'].astype(str).str.upper()  ### Convert Vol. column to string and uppercase everything\n",
    "\n",
    "\n",
    "clean_volume = []                             # Create an empty list to hold the cleaned numbers\n",
    "\n",
    "\n",
    "for val in dangote_df['Vol.']:                 #Loop through the values to clean them\n",
    "    if 'K' in val:\n",
    "        num = float(val.replace('K', ''))\n",
    "        clean_volume.append(num * 1000)\n",
    "    elif 'M' in val:\n",
    "        num = float(val.replace('M', ''))\n",
    "        clean_volume.append(num * 1000000)\n",
    "    else:\n",
    "        clean_volume.append(float(val))\n",
    "\n",
    "\n",
    "dangote_df['Vol.'] = clean_volume                    # Assign the cleaned values back to the Vol. column\n"
   ]
  },
  {
   "cell_type": "code",
   "execution_count": 22,
   "id": "a6418cbe-41ac-46a3-9334-6c3707e38272",
   "metadata": {},
   "outputs": [
    {
     "data": {
      "text/plain": [
       "Price    float64\n",
       "Open     float64\n",
       "High     float64\n",
       "Low      float64\n",
       "Vol.     float64\n",
       "dtype: object"
      ]
     },
     "execution_count": 22,
     "metadata": {},
     "output_type": "execute_result"
    }
   ],
   "source": [
    "### To confirm updated data types\n",
    "\n",
    "dangote_df.dtypes"
   ]
  },
  {
   "cell_type": "code",
   "execution_count": 23,
   "id": "f3ece1f6-c825-42b4-b452-6c56b0d3713b",
   "metadata": {},
   "outputs": [
    {
     "data": {
      "text/html": [
       "<div>\n",
       "<style scoped>\n",
       "    .dataframe tbody tr th:only-of-type {\n",
       "        vertical-align: middle;\n",
       "    }\n",
       "\n",
       "    .dataframe tbody tr th {\n",
       "        vertical-align: top;\n",
       "    }\n",
       "\n",
       "    .dataframe thead th {\n",
       "        text-align: right;\n",
       "    }\n",
       "</style>\n",
       "<table border=\"1\" class=\"dataframe\">\n",
       "  <thead>\n",
       "    <tr style=\"text-align: right;\">\n",
       "      <th></th>\n",
       "      <th>Price</th>\n",
       "      <th>Open</th>\n",
       "      <th>High</th>\n",
       "      <th>Low</th>\n",
       "      <th>Vol.</th>\n",
       "    </tr>\n",
       "    <tr>\n",
       "      <th>Date</th>\n",
       "      <th></th>\n",
       "      <th></th>\n",
       "      <th></th>\n",
       "      <th></th>\n",
       "      <th></th>\n",
       "    </tr>\n",
       "  </thead>\n",
       "  <tbody>\n",
       "    <tr>\n",
       "      <th>2024-12-31</th>\n",
       "      <td>478.8</td>\n",
       "      <td>478.8</td>\n",
       "      <td>478.8</td>\n",
       "      <td>478.8</td>\n",
       "      <td>18280.0</td>\n",
       "    </tr>\n",
       "    <tr>\n",
       "      <th>2024-12-30</th>\n",
       "      <td>478.8</td>\n",
       "      <td>478.8</td>\n",
       "      <td>478.8</td>\n",
       "      <td>478.8</td>\n",
       "      <td>222450.0</td>\n",
       "    </tr>\n",
       "    <tr>\n",
       "      <th>2024-12-27</th>\n",
       "      <td>478.8</td>\n",
       "      <td>478.8</td>\n",
       "      <td>478.8</td>\n",
       "      <td>478.8</td>\n",
       "      <td>42380.0</td>\n",
       "    </tr>\n",
       "    <tr>\n",
       "      <th>2024-12-24</th>\n",
       "      <td>478.8</td>\n",
       "      <td>478.8</td>\n",
       "      <td>478.8</td>\n",
       "      <td>478.8</td>\n",
       "      <td>30490.0</td>\n",
       "    </tr>\n",
       "    <tr>\n",
       "      <th>2024-12-23</th>\n",
       "      <td>478.8</td>\n",
       "      <td>478.8</td>\n",
       "      <td>478.8</td>\n",
       "      <td>478.8</td>\n",
       "      <td>57980.0</td>\n",
       "    </tr>\n",
       "    <tr>\n",
       "      <th>...</th>\n",
       "      <td>...</td>\n",
       "      <td>...</td>\n",
       "      <td>...</td>\n",
       "      <td>...</td>\n",
       "      <td>...</td>\n",
       "    </tr>\n",
       "    <tr>\n",
       "      <th>2020-01-08</th>\n",
       "      <td>164.0</td>\n",
       "      <td>150.0</td>\n",
       "      <td>164.0</td>\n",
       "      <td>154.1</td>\n",
       "      <td>3160000.0</td>\n",
       "    </tr>\n",
       "    <tr>\n",
       "      <th>2020-01-07</th>\n",
       "      <td>150.0</td>\n",
       "      <td>146.0</td>\n",
       "      <td>152.0</td>\n",
       "      <td>146.1</td>\n",
       "      <td>4690000.0</td>\n",
       "    </tr>\n",
       "    <tr>\n",
       "      <th>2020-01-06</th>\n",
       "      <td>146.0</td>\n",
       "      <td>142.0</td>\n",
       "      <td>146.0</td>\n",
       "      <td>143.0</td>\n",
       "      <td>2580000.0</td>\n",
       "    </tr>\n",
       "    <tr>\n",
       "      <th>2020-01-03</th>\n",
       "      <td>142.0</td>\n",
       "      <td>142.0</td>\n",
       "      <td>142.0</td>\n",
       "      <td>142.0</td>\n",
       "      <td>1530000.0</td>\n",
       "    </tr>\n",
       "    <tr>\n",
       "      <th>2020-01-02</th>\n",
       "      <td>142.0</td>\n",
       "      <td>142.0</td>\n",
       "      <td>142.0</td>\n",
       "      <td>142.0</td>\n",
       "      <td>1870000.0</td>\n",
       "    </tr>\n",
       "  </tbody>\n",
       "</table>\n",
       "<p>1239 rows × 5 columns</p>\n",
       "</div>"
      ],
      "text/plain": [
       "            Price   Open   High    Low       Vol.\n",
       "Date                                             \n",
       "2024-12-31  478.8  478.8  478.8  478.8    18280.0\n",
       "2024-12-30  478.8  478.8  478.8  478.8   222450.0\n",
       "2024-12-27  478.8  478.8  478.8  478.8    42380.0\n",
       "2024-12-24  478.8  478.8  478.8  478.8    30490.0\n",
       "2024-12-23  478.8  478.8  478.8  478.8    57980.0\n",
       "...           ...    ...    ...    ...        ...\n",
       "2020-01-08  164.0  150.0  164.0  154.1  3160000.0\n",
       "2020-01-07  150.0  146.0  152.0  146.1  4690000.0\n",
       "2020-01-06  146.0  142.0  146.0  143.0  2580000.0\n",
       "2020-01-03  142.0  142.0  142.0  142.0  1530000.0\n",
       "2020-01-02  142.0  142.0  142.0  142.0  1870000.0\n",
       "\n",
       "[1239 rows x 5 columns]"
      ]
     },
     "execution_count": 23,
     "metadata": {},
     "output_type": "execute_result"
    }
   ],
   "source": [
    "dangote_df"
   ]
  },
  {
   "cell_type": "code",
   "execution_count": null,
   "id": "6237f221-4bba-4ac1-b4f1-85ea88d1e672",
   "metadata": {},
   "outputs": [],
   "source": []
  },
  {
   "cell_type": "code",
   "execution_count": null,
   "id": "99de5694-592d-416e-bfef-0e2c8244a64b",
   "metadata": {},
   "outputs": [],
   "source": []
  }
 ],
 "metadata": {
  "kernelspec": {
   "display_name": "Python 3 (ipykernel)",
   "language": "python",
   "name": "python3"
  },
  "language_info": {
   "codemirror_mode": {
    "name": "ipython",
    "version": 3
   },
   "file_extension": ".py",
   "mimetype": "text/x-python",
   "name": "python",
   "nbconvert_exporter": "python",
   "pygments_lexer": "ipython3",
   "version": "3.12.7"
  }
 },
 "nbformat": 4,
 "nbformat_minor": 5
}
