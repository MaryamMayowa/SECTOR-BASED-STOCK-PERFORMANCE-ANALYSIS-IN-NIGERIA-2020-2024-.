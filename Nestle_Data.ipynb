{
 "cells": [
  {
   "cell_type": "markdown",
   "id": "37d3d533-2587-41c7-b4d3-a5a33d74af55",
   "metadata": {},
   "source": [
    "# **DATA CLEANING**\n",
    " * ### **NESTLE DATASETS**"
   ]
  },
  {
   "cell_type": "code",
   "execution_count": 1,
   "id": "9561c57f-ef11-4402-ae01-b8df1404168a",
   "metadata": {},
   "outputs": [],
   "source": [
    "### Importing my libraries\n",
    "\n",
    "import pandas as pd\n",
    "import numpy as np\n",
    "import matplotlib as plt"
   ]
  },
  {
   "cell_type": "code",
   "execution_count": 2,
   "id": "ace9b9c3-9b57-402f-abc2-58db4b6806c0",
   "metadata": {},
   "outputs": [
    {
     "name": "stdout",
     "output_type": "stream",
     "text": [
      "            Date     Price      Open High  Low     Vol. Change %\n",
      "0     12/31/2024       875       875  875  875   13.06K    0.00%\n",
      "1     12/30/2024       875       875  875  875   45.38K    0.00%\n",
      "2     12/27/2024       875       875  875  875   27.86K    0.00%\n",
      "3     12/24/2024       875       875  875  875   10.90K    0.00%\n",
      "4     12/23/2024       875       875  875  875   22.31K    0.00%\n",
      "...          ...       ...       ...  ...  ...      ...      ...\n",
      "1234    1/8/2020  1,469.90  1,469.90    0    0  183.09K    0.00%\n",
      "1235    1/7/2020  1,469.90  1,469.90    0    0  266.83K    0.00%\n",
      "1236    1/6/2020  1,469.90  1,469.90    0    0   21.32K    0.00%\n",
      "1237    1/3/2020  1,469.90  1,469.90    0    0   47.49K    0.00%\n",
      "1238    1/2/2020  1,469.90  1,469.90    0    0    6.94K    0.00%\n",
      "\n",
      "[1239 rows x 7 columns]\n"
     ]
    }
   ],
   "source": [
    "### Importing dataset \n",
    "\n",
    "nestle_df= pd.read_csv('Nestle Nigeria Stock Price History.csv')\n",
    "print (nestle_df)"
   ]
  },
  {
   "cell_type": "code",
   "execution_count": 3,
   "id": "29f8366c-da3b-4634-b9bb-53d505df54ea",
   "metadata": {},
   "outputs": [
    {
     "data": {
      "text/html": [
       "<div>\n",
       "<style scoped>\n",
       "    .dataframe tbody tr th:only-of-type {\n",
       "        vertical-align: middle;\n",
       "    }\n",
       "\n",
       "    .dataframe tbody tr th {\n",
       "        vertical-align: top;\n",
       "    }\n",
       "\n",
       "    .dataframe thead th {\n",
       "        text-align: right;\n",
       "    }\n",
       "</style>\n",
       "<table border=\"1\" class=\"dataframe\">\n",
       "  <thead>\n",
       "    <tr style=\"text-align: right;\">\n",
       "      <th></th>\n",
       "      <th>Date</th>\n",
       "      <th>Price</th>\n",
       "      <th>Open</th>\n",
       "      <th>High</th>\n",
       "      <th>Low</th>\n",
       "      <th>Vol.</th>\n",
       "      <th>Change %</th>\n",
       "    </tr>\n",
       "  </thead>\n",
       "  <tbody>\n",
       "    <tr>\n",
       "      <th>0</th>\n",
       "      <td>12/31/2024</td>\n",
       "      <td>875</td>\n",
       "      <td>875</td>\n",
       "      <td>875</td>\n",
       "      <td>875</td>\n",
       "      <td>13.06K</td>\n",
       "      <td>0.00%</td>\n",
       "    </tr>\n",
       "    <tr>\n",
       "      <th>1</th>\n",
       "      <td>12/30/2024</td>\n",
       "      <td>875</td>\n",
       "      <td>875</td>\n",
       "      <td>875</td>\n",
       "      <td>875</td>\n",
       "      <td>45.38K</td>\n",
       "      <td>0.00%</td>\n",
       "    </tr>\n",
       "    <tr>\n",
       "      <th>2</th>\n",
       "      <td>12/27/2024</td>\n",
       "      <td>875</td>\n",
       "      <td>875</td>\n",
       "      <td>875</td>\n",
       "      <td>875</td>\n",
       "      <td>27.86K</td>\n",
       "      <td>0.00%</td>\n",
       "    </tr>\n",
       "    <tr>\n",
       "      <th>3</th>\n",
       "      <td>12/24/2024</td>\n",
       "      <td>875</td>\n",
       "      <td>875</td>\n",
       "      <td>875</td>\n",
       "      <td>875</td>\n",
       "      <td>10.90K</td>\n",
       "      <td>0.00%</td>\n",
       "    </tr>\n",
       "    <tr>\n",
       "      <th>4</th>\n",
       "      <td>12/23/2024</td>\n",
       "      <td>875</td>\n",
       "      <td>875</td>\n",
       "      <td>875</td>\n",
       "      <td>875</td>\n",
       "      <td>22.31K</td>\n",
       "      <td>0.00%</td>\n",
       "    </tr>\n",
       "  </tbody>\n",
       "</table>\n",
       "</div>"
      ],
      "text/plain": [
       "         Date Price Open High  Low    Vol. Change %\n",
       "0  12/31/2024   875  875  875  875  13.06K    0.00%\n",
       "1  12/30/2024   875  875  875  875  45.38K    0.00%\n",
       "2  12/27/2024   875  875  875  875  27.86K    0.00%\n",
       "3  12/24/2024   875  875  875  875  10.90K    0.00%\n",
       "4  12/23/2024   875  875  875  875  22.31K    0.00%"
      ]
     },
     "execution_count": 3,
     "metadata": {},
     "output_type": "execute_result"
    }
   ],
   "source": [
    "### Shows the first  row\n",
    "\n",
    "nestle_df.head()"
   ]
  },
  {
   "cell_type": "code",
   "execution_count": 4,
   "id": "4d4cd68f-ac80-494b-ab45-39859a0367f5",
   "metadata": {},
   "outputs": [
    {
     "data": {
      "text/html": [
       "<div>\n",
       "<style scoped>\n",
       "    .dataframe tbody tr th:only-of-type {\n",
       "        vertical-align: middle;\n",
       "    }\n",
       "\n",
       "    .dataframe tbody tr th {\n",
       "        vertical-align: top;\n",
       "    }\n",
       "\n",
       "    .dataframe thead th {\n",
       "        text-align: right;\n",
       "    }\n",
       "</style>\n",
       "<table border=\"1\" class=\"dataframe\">\n",
       "  <thead>\n",
       "    <tr style=\"text-align: right;\">\n",
       "      <th></th>\n",
       "      <th>Date</th>\n",
       "      <th>Price</th>\n",
       "      <th>Open</th>\n",
       "      <th>High</th>\n",
       "      <th>Low</th>\n",
       "      <th>Vol.</th>\n",
       "      <th>Change %</th>\n",
       "    </tr>\n",
       "  </thead>\n",
       "  <tbody>\n",
       "    <tr>\n",
       "      <th>1234</th>\n",
       "      <td>1/8/2020</td>\n",
       "      <td>1,469.90</td>\n",
       "      <td>1,469.90</td>\n",
       "      <td>0</td>\n",
       "      <td>0</td>\n",
       "      <td>183.09K</td>\n",
       "      <td>0.00%</td>\n",
       "    </tr>\n",
       "    <tr>\n",
       "      <th>1235</th>\n",
       "      <td>1/7/2020</td>\n",
       "      <td>1,469.90</td>\n",
       "      <td>1,469.90</td>\n",
       "      <td>0</td>\n",
       "      <td>0</td>\n",
       "      <td>266.83K</td>\n",
       "      <td>0.00%</td>\n",
       "    </tr>\n",
       "    <tr>\n",
       "      <th>1236</th>\n",
       "      <td>1/6/2020</td>\n",
       "      <td>1,469.90</td>\n",
       "      <td>1,469.90</td>\n",
       "      <td>0</td>\n",
       "      <td>0</td>\n",
       "      <td>21.32K</td>\n",
       "      <td>0.00%</td>\n",
       "    </tr>\n",
       "    <tr>\n",
       "      <th>1237</th>\n",
       "      <td>1/3/2020</td>\n",
       "      <td>1,469.90</td>\n",
       "      <td>1,469.90</td>\n",
       "      <td>0</td>\n",
       "      <td>0</td>\n",
       "      <td>47.49K</td>\n",
       "      <td>0.00%</td>\n",
       "    </tr>\n",
       "    <tr>\n",
       "      <th>1238</th>\n",
       "      <td>1/2/2020</td>\n",
       "      <td>1,469.90</td>\n",
       "      <td>1,469.90</td>\n",
       "      <td>0</td>\n",
       "      <td>0</td>\n",
       "      <td>6.94K</td>\n",
       "      <td>0.00%</td>\n",
       "    </tr>\n",
       "  </tbody>\n",
       "</table>\n",
       "</div>"
      ],
      "text/plain": [
       "          Date     Price      Open High Low     Vol. Change %\n",
       "1234  1/8/2020  1,469.90  1,469.90    0   0  183.09K    0.00%\n",
       "1235  1/7/2020  1,469.90  1,469.90    0   0  266.83K    0.00%\n",
       "1236  1/6/2020  1,469.90  1,469.90    0   0   21.32K    0.00%\n",
       "1237  1/3/2020  1,469.90  1,469.90    0   0   47.49K    0.00%\n",
       "1238  1/2/2020  1,469.90  1,469.90    0   0    6.94K    0.00%"
      ]
     },
     "execution_count": 4,
     "metadata": {},
     "output_type": "execute_result"
    }
   ],
   "source": [
    "### Shows the last rows\n",
    "\n",
    "nestle_df.tail()"
   ]
  },
  {
   "cell_type": "code",
   "execution_count": 5,
   "id": "5f4271d1-9027-4510-9359-4dec992cc765",
   "metadata": {},
   "outputs": [
    {
     "data": {
      "text/plain": [
       "(1239, 7)"
      ]
     },
     "execution_count": 5,
     "metadata": {},
     "output_type": "execute_result"
    }
   ],
   "source": [
    "### Shows number of rows and columns\n",
    "\n",
    "nestle_df.shape"
   ]
  },
  {
   "cell_type": "code",
   "execution_count": 6,
   "id": "915bc043-cf9a-4a1f-9b1c-0935ea0060f1",
   "metadata": {},
   "outputs": [
    {
     "data": {
      "text/plain": [
       "<bound method NDFrame.describe of             Date     Price      Open High  Low     Vol. Change %\n",
       "0     12/31/2024       875       875  875  875   13.06K    0.00%\n",
       "1     12/30/2024       875       875  875  875   45.38K    0.00%\n",
       "2     12/27/2024       875       875  875  875   27.86K    0.00%\n",
       "3     12/24/2024       875       875  875  875   10.90K    0.00%\n",
       "4     12/23/2024       875       875  875  875   22.31K    0.00%\n",
       "...          ...       ...       ...  ...  ...      ...      ...\n",
       "1234    1/8/2020  1,469.90  1,469.90    0    0  183.09K    0.00%\n",
       "1235    1/7/2020  1,469.90  1,469.90    0    0  266.83K    0.00%\n",
       "1236    1/6/2020  1,469.90  1,469.90    0    0   21.32K    0.00%\n",
       "1237    1/3/2020  1,469.90  1,469.90    0    0   47.49K    0.00%\n",
       "1238    1/2/2020  1,469.90  1,469.90    0    0    6.94K    0.00%\n",
       "\n",
       "[1239 rows x 7 columns]>"
      ]
     },
     "execution_count": 6,
     "metadata": {},
     "output_type": "execute_result"
    }
   ],
   "source": [
    "### Shows data statistics\n",
    "\n",
    "nestle_df.describe"
   ]
  },
  {
   "cell_type": "code",
   "execution_count": 7,
   "id": "e52567cc-ba94-4d05-8c24-f0358a2a8f84",
   "metadata": {},
   "outputs": [
    {
     "data": {
      "text/plain": [
       "Index(['Date', 'Price', 'Open', 'High', 'Low', 'Vol.', 'Change %'], dtype='object')"
      ]
     },
     "execution_count": 7,
     "metadata": {},
     "output_type": "execute_result"
    }
   ],
   "source": [
    "### Shows column names\n",
    "\n",
    "nestle_df.columns"
   ]
  },
  {
   "cell_type": "code",
   "execution_count": 8,
   "id": "b7c24211-a45e-4352-9fa5-df121776cfef",
   "metadata": {},
   "outputs": [
    {
     "data": {
      "text/plain": [
       "Date        object\n",
       "Price       object\n",
       "Open        object\n",
       "High        object\n",
       "Low         object\n",
       "Vol.        object\n",
       "Change %    object\n",
       "dtype: object"
      ]
     },
     "execution_count": 8,
     "metadata": {},
     "output_type": "execute_result"
    }
   ],
   "source": [
    "### Shows datatypes of each column\n",
    "\n",
    "nestle_df.dtypes"
   ]
  },
  {
   "cell_type": "code",
   "execution_count": 9,
   "id": "01709a82-9f90-4191-b498-bff62c7dd39d",
   "metadata": {},
   "outputs": [
    {
     "data": {
      "text/plain": [
       "<bound method DataFrame.info of             Date     Price      Open High  Low     Vol. Change %\n",
       "0     12/31/2024       875       875  875  875   13.06K    0.00%\n",
       "1     12/30/2024       875       875  875  875   45.38K    0.00%\n",
       "2     12/27/2024       875       875  875  875   27.86K    0.00%\n",
       "3     12/24/2024       875       875  875  875   10.90K    0.00%\n",
       "4     12/23/2024       875       875  875  875   22.31K    0.00%\n",
       "...          ...       ...       ...  ...  ...      ...      ...\n",
       "1234    1/8/2020  1,469.90  1,469.90    0    0  183.09K    0.00%\n",
       "1235    1/7/2020  1,469.90  1,469.90    0    0  266.83K    0.00%\n",
       "1236    1/6/2020  1,469.90  1,469.90    0    0   21.32K    0.00%\n",
       "1237    1/3/2020  1,469.90  1,469.90    0    0   47.49K    0.00%\n",
       "1238    1/2/2020  1,469.90  1,469.90    0    0    6.94K    0.00%\n",
       "\n",
       "[1239 rows x 7 columns]>"
      ]
     },
     "execution_count": 9,
     "metadata": {},
     "output_type": "execute_result"
    }
   ],
   "source": [
    "### Shows dataset summary\n",
    "\n",
    "nestle_df.info"
   ]
  },
  {
   "cell_type": "code",
   "execution_count": 10,
   "id": "5fbd6aa7-80d0-47a8-961f-2ce806f88e51",
   "metadata": {},
   "outputs": [
    {
     "data": {
      "text/html": [
       "<div>\n",
       "<style scoped>\n",
       "    .dataframe tbody tr th:only-of-type {\n",
       "        vertical-align: middle;\n",
       "    }\n",
       "\n",
       "    .dataframe tbody tr th {\n",
       "        vertical-align: top;\n",
       "    }\n",
       "\n",
       "    .dataframe thead th {\n",
       "        text-align: right;\n",
       "    }\n",
       "</style>\n",
       "<table border=\"1\" class=\"dataframe\">\n",
       "  <thead>\n",
       "    <tr style=\"text-align: right;\">\n",
       "      <th></th>\n",
       "      <th>Date</th>\n",
       "      <th>Price</th>\n",
       "      <th>Open</th>\n",
       "      <th>High</th>\n",
       "      <th>Low</th>\n",
       "      <th>Vol.</th>\n",
       "      <th>Change %</th>\n",
       "    </tr>\n",
       "  </thead>\n",
       "  <tbody>\n",
       "    <tr>\n",
       "      <th>0</th>\n",
       "      <td>False</td>\n",
       "      <td>False</td>\n",
       "      <td>False</td>\n",
       "      <td>False</td>\n",
       "      <td>False</td>\n",
       "      <td>False</td>\n",
       "      <td>False</td>\n",
       "    </tr>\n",
       "    <tr>\n",
       "      <th>1</th>\n",
       "      <td>False</td>\n",
       "      <td>False</td>\n",
       "      <td>False</td>\n",
       "      <td>False</td>\n",
       "      <td>False</td>\n",
       "      <td>False</td>\n",
       "      <td>False</td>\n",
       "    </tr>\n",
       "    <tr>\n",
       "      <th>2</th>\n",
       "      <td>False</td>\n",
       "      <td>False</td>\n",
       "      <td>False</td>\n",
       "      <td>False</td>\n",
       "      <td>False</td>\n",
       "      <td>False</td>\n",
       "      <td>False</td>\n",
       "    </tr>\n",
       "    <tr>\n",
       "      <th>3</th>\n",
       "      <td>False</td>\n",
       "      <td>False</td>\n",
       "      <td>False</td>\n",
       "      <td>False</td>\n",
       "      <td>False</td>\n",
       "      <td>False</td>\n",
       "      <td>False</td>\n",
       "    </tr>\n",
       "    <tr>\n",
       "      <th>4</th>\n",
       "      <td>False</td>\n",
       "      <td>False</td>\n",
       "      <td>False</td>\n",
       "      <td>False</td>\n",
       "      <td>False</td>\n",
       "      <td>False</td>\n",
       "      <td>False</td>\n",
       "    </tr>\n",
       "    <tr>\n",
       "      <th>...</th>\n",
       "      <td>...</td>\n",
       "      <td>...</td>\n",
       "      <td>...</td>\n",
       "      <td>...</td>\n",
       "      <td>...</td>\n",
       "      <td>...</td>\n",
       "      <td>...</td>\n",
       "    </tr>\n",
       "    <tr>\n",
       "      <th>1234</th>\n",
       "      <td>False</td>\n",
       "      <td>False</td>\n",
       "      <td>False</td>\n",
       "      <td>False</td>\n",
       "      <td>False</td>\n",
       "      <td>False</td>\n",
       "      <td>False</td>\n",
       "    </tr>\n",
       "    <tr>\n",
       "      <th>1235</th>\n",
       "      <td>False</td>\n",
       "      <td>False</td>\n",
       "      <td>False</td>\n",
       "      <td>False</td>\n",
       "      <td>False</td>\n",
       "      <td>False</td>\n",
       "      <td>False</td>\n",
       "    </tr>\n",
       "    <tr>\n",
       "      <th>1236</th>\n",
       "      <td>False</td>\n",
       "      <td>False</td>\n",
       "      <td>False</td>\n",
       "      <td>False</td>\n",
       "      <td>False</td>\n",
       "      <td>False</td>\n",
       "      <td>False</td>\n",
       "    </tr>\n",
       "    <tr>\n",
       "      <th>1237</th>\n",
       "      <td>False</td>\n",
       "      <td>False</td>\n",
       "      <td>False</td>\n",
       "      <td>False</td>\n",
       "      <td>False</td>\n",
       "      <td>False</td>\n",
       "      <td>False</td>\n",
       "    </tr>\n",
       "    <tr>\n",
       "      <th>1238</th>\n",
       "      <td>False</td>\n",
       "      <td>False</td>\n",
       "      <td>False</td>\n",
       "      <td>False</td>\n",
       "      <td>False</td>\n",
       "      <td>False</td>\n",
       "      <td>False</td>\n",
       "    </tr>\n",
       "  </tbody>\n",
       "</table>\n",
       "<p>1239 rows × 7 columns</p>\n",
       "</div>"
      ],
      "text/plain": [
       "       Date  Price   Open   High    Low   Vol.  Change %\n",
       "0     False  False  False  False  False  False     False\n",
       "1     False  False  False  False  False  False     False\n",
       "2     False  False  False  False  False  False     False\n",
       "3     False  False  False  False  False  False     False\n",
       "4     False  False  False  False  False  False     False\n",
       "...     ...    ...    ...    ...    ...    ...       ...\n",
       "1234  False  False  False  False  False  False     False\n",
       "1235  False  False  False  False  False  False     False\n",
       "1236  False  False  False  False  False  False     False\n",
       "1237  False  False  False  False  False  False     False\n",
       "1238  False  False  False  False  False  False     False\n",
       "\n",
       "[1239 rows x 7 columns]"
      ]
     },
     "execution_count": 10,
     "metadata": {},
     "output_type": "execute_result"
    }
   ],
   "source": [
    "### Shows where values are missing\n",
    "\n",
    "nestle_df.isnull()"
   ]
  },
  {
   "cell_type": "code",
   "execution_count": 11,
   "id": "8a2d89e8-f0d3-463e-96ef-d8ab9778c610",
   "metadata": {},
   "outputs": [
    {
     "data": {
      "text/plain": [
       "Date        0\n",
       "Price       0\n",
       "Open        0\n",
       "High        0\n",
       "Low         0\n",
       "Vol.        0\n",
       "Change %    0\n",
       "dtype: int64"
      ]
     },
     "execution_count": 11,
     "metadata": {},
     "output_type": "execute_result"
    }
   ],
   "source": [
    "### Shows missing values\n",
    "\n",
    "nestle_df.isnull().sum()"
   ]
  },
  {
   "cell_type": "code",
   "execution_count": 12,
   "id": "092ce684-9fc9-44a6-93f7-298e67694282",
   "metadata": {},
   "outputs": [
    {
     "data": {
      "text/plain": [
       "0       False\n",
       "1       False\n",
       "2       False\n",
       "3       False\n",
       "4       False\n",
       "        ...  \n",
       "1234    False\n",
       "1235    False\n",
       "1236    False\n",
       "1237    False\n",
       "1238    False\n",
       "Length: 1239, dtype: bool"
      ]
     },
     "execution_count": 12,
     "metadata": {},
     "output_type": "execute_result"
    }
   ],
   "source": [
    "### Shows duplicates\n",
    "\n",
    "nestle_df.duplicated()"
   ]
  },
  {
   "cell_type": "code",
   "execution_count": 13,
   "id": "bef58abe-c962-4996-9e69-70540777bbe9",
   "metadata": {},
   "outputs": [
    {
     "data": {
      "text/plain": [
       "0"
      ]
     },
     "execution_count": 13,
     "metadata": {},
     "output_type": "execute_result"
    }
   ],
   "source": [
    "### Counts duplicated rows\n",
    "\n",
    "nestle_df.duplicated().sum()"
   ]
  },
  {
   "cell_type": "code",
   "execution_count": 14,
   "id": "94bdf345-2110-4770-84c3-1806bc3b949f",
   "metadata": {},
   "outputs": [],
   "source": [
    "### Coverting Date column to Date Data Type\n",
    "\n",
    "nestle_df['Date']=pd.to_datetime(nestle_df['Date'])"
   ]
  },
  {
   "cell_type": "code",
   "execution_count": 15,
   "id": "e959c019-1e83-418d-9776-9a62f80718f4",
   "metadata": {},
   "outputs": [],
   "source": [
    "### Setting date as index\n",
    "\n",
    "nestle_df.set_index('Date', inplace=True)"
   ]
  },
  {
   "cell_type": "code",
   "execution_count": 16,
   "id": "d3832779-e9c2-4b10-aca1-e5e8060f56ae",
   "metadata": {},
   "outputs": [],
   "source": [
    "### Removing Spaces(Trim) in columns\n",
    "\n",
    "nestle_df.columns= nestle_df.columns.str.strip()"
   ]
  },
  {
   "cell_type": "code",
   "execution_count": 17,
   "id": "f012327a-3d21-4524-b38e-972218c71222",
   "metadata": {},
   "outputs": [
    {
     "data": {
      "text/plain": [
       "Index(['Price', 'Open', 'High', 'Low', 'Vol.', 'Change %'], dtype='object')"
      ]
     },
     "execution_count": 17,
     "metadata": {},
     "output_type": "execute_result"
    }
   ],
   "source": [
    "### Shows column name\n",
    "\n",
    "nestle_df.columns"
   ]
  },
  {
   "cell_type": "code",
   "execution_count": 18,
   "id": "acc610e6-49f8-4b23-9d51-a706a7ca1511",
   "metadata": {},
   "outputs": [],
   "source": [
    "### Dropping the Change(%) column.\n",
    "\n",
    "nestle_df= nestle_df.drop(columns=['Change %'])"
   ]
  },
  {
   "cell_type": "code",
   "execution_count": 19,
   "id": "f3a1d82b-ad12-477b-8d97-6f883edffbb8",
   "metadata": {},
   "outputs": [
    {
     "data": {
      "text/html": [
       "<div>\n",
       "<style scoped>\n",
       "    .dataframe tbody tr th:only-of-type {\n",
       "        vertical-align: middle;\n",
       "    }\n",
       "\n",
       "    .dataframe tbody tr th {\n",
       "        vertical-align: top;\n",
       "    }\n",
       "\n",
       "    .dataframe thead th {\n",
       "        text-align: right;\n",
       "    }\n",
       "</style>\n",
       "<table border=\"1\" class=\"dataframe\">\n",
       "  <thead>\n",
       "    <tr style=\"text-align: right;\">\n",
       "      <th></th>\n",
       "      <th>Price</th>\n",
       "      <th>Open</th>\n",
       "      <th>High</th>\n",
       "      <th>Low</th>\n",
       "      <th>Vol.</th>\n",
       "    </tr>\n",
       "    <tr>\n",
       "      <th>Date</th>\n",
       "      <th></th>\n",
       "      <th></th>\n",
       "      <th></th>\n",
       "      <th></th>\n",
       "      <th></th>\n",
       "    </tr>\n",
       "  </thead>\n",
       "  <tbody>\n",
       "    <tr>\n",
       "      <th>2024-12-31</th>\n",
       "      <td>875</td>\n",
       "      <td>875</td>\n",
       "      <td>875</td>\n",
       "      <td>875</td>\n",
       "      <td>13.06K</td>\n",
       "    </tr>\n",
       "    <tr>\n",
       "      <th>2024-12-30</th>\n",
       "      <td>875</td>\n",
       "      <td>875</td>\n",
       "      <td>875</td>\n",
       "      <td>875</td>\n",
       "      <td>45.38K</td>\n",
       "    </tr>\n",
       "    <tr>\n",
       "      <th>2024-12-27</th>\n",
       "      <td>875</td>\n",
       "      <td>875</td>\n",
       "      <td>875</td>\n",
       "      <td>875</td>\n",
       "      <td>27.86K</td>\n",
       "    </tr>\n",
       "    <tr>\n",
       "      <th>2024-12-24</th>\n",
       "      <td>875</td>\n",
       "      <td>875</td>\n",
       "      <td>875</td>\n",
       "      <td>875</td>\n",
       "      <td>10.90K</td>\n",
       "    </tr>\n",
       "    <tr>\n",
       "      <th>2024-12-23</th>\n",
       "      <td>875</td>\n",
       "      <td>875</td>\n",
       "      <td>875</td>\n",
       "      <td>875</td>\n",
       "      <td>22.31K</td>\n",
       "    </tr>\n",
       "    <tr>\n",
       "      <th>...</th>\n",
       "      <td>...</td>\n",
       "      <td>...</td>\n",
       "      <td>...</td>\n",
       "      <td>...</td>\n",
       "      <td>...</td>\n",
       "    </tr>\n",
       "    <tr>\n",
       "      <th>2020-01-08</th>\n",
       "      <td>1,469.90</td>\n",
       "      <td>1,469.90</td>\n",
       "      <td>0</td>\n",
       "      <td>0</td>\n",
       "      <td>183.09K</td>\n",
       "    </tr>\n",
       "    <tr>\n",
       "      <th>2020-01-07</th>\n",
       "      <td>1,469.90</td>\n",
       "      <td>1,469.90</td>\n",
       "      <td>0</td>\n",
       "      <td>0</td>\n",
       "      <td>266.83K</td>\n",
       "    </tr>\n",
       "    <tr>\n",
       "      <th>2020-01-06</th>\n",
       "      <td>1,469.90</td>\n",
       "      <td>1,469.90</td>\n",
       "      <td>0</td>\n",
       "      <td>0</td>\n",
       "      <td>21.32K</td>\n",
       "    </tr>\n",
       "    <tr>\n",
       "      <th>2020-01-03</th>\n",
       "      <td>1,469.90</td>\n",
       "      <td>1,469.90</td>\n",
       "      <td>0</td>\n",
       "      <td>0</td>\n",
       "      <td>47.49K</td>\n",
       "    </tr>\n",
       "    <tr>\n",
       "      <th>2020-01-02</th>\n",
       "      <td>1,469.90</td>\n",
       "      <td>1,469.90</td>\n",
       "      <td>0</td>\n",
       "      <td>0</td>\n",
       "      <td>6.94K</td>\n",
       "    </tr>\n",
       "  </tbody>\n",
       "</table>\n",
       "<p>1239 rows × 5 columns</p>\n",
       "</div>"
      ],
      "text/plain": [
       "               Price      Open High  Low     Vol.\n",
       "Date                                             \n",
       "2024-12-31       875       875  875  875   13.06K\n",
       "2024-12-30       875       875  875  875   45.38K\n",
       "2024-12-27       875       875  875  875   27.86K\n",
       "2024-12-24       875       875  875  875   10.90K\n",
       "2024-12-23       875       875  875  875   22.31K\n",
       "...              ...       ...  ...  ...      ...\n",
       "2020-01-08  1,469.90  1,469.90    0    0  183.09K\n",
       "2020-01-07  1,469.90  1,469.90    0    0  266.83K\n",
       "2020-01-06  1,469.90  1,469.90    0    0   21.32K\n",
       "2020-01-03  1,469.90  1,469.90    0    0   47.49K\n",
       "2020-01-02  1,469.90  1,469.90    0    0    6.94K\n",
       "\n",
       "[1239 rows x 5 columns]"
      ]
     },
     "execution_count": 19,
     "metadata": {},
     "output_type": "execute_result"
    }
   ],
   "source": [
    "### Calling my variables to see changes reflected.\n",
    "nestle_df"
   ]
  },
  {
   "cell_type": "code",
   "execution_count": 20,
   "id": "2e180503-2f4a-44fa-bc53-cced32c3af77",
   "metadata": {},
   "outputs": [
    {
     "name": "stdout",
     "output_type": "stream",
     "text": [
      "index type: datetime64[ns]\n"
     ]
    }
   ],
   "source": [
    "### Checking my date index datatype\n",
    "\n",
    "print(\"index type:\",nestle_df.index.dtype)"
   ]
  },
  {
   "cell_type": "code",
   "execution_count": 21,
   "id": "33864712-6ccb-4ede-8935-7640d726a192",
   "metadata": {},
   "outputs": [
    {
     "data": {
      "text/plain": [
       "Price    object\n",
       "Open     object\n",
       "High     object\n",
       "Low      object\n",
       "Vol.     object\n",
       "dtype: object"
      ]
     },
     "execution_count": 21,
     "metadata": {},
     "output_type": "execute_result"
    }
   ],
   "source": [
    "nestle_df.dtypes"
   ]
  },
  {
   "cell_type": "code",
   "execution_count": 22,
   "id": "0650b162-861a-4955-bd66-1f2d44bc4394",
   "metadata": {},
   "outputs": [],
   "source": [
    "### Convert columns: price,Open, High, Low to float data type\n",
    "\n",
    "nestle_df['Price']=(nestle_df['Price'].astype(str).str.replace(r'[^\\d.]','',regex=True).astype(float))                                                      \n",
    "nestle_df['Open']=(nestle_df['Open'].astype(str).str.replace(r'[^\\d.]','',regex=True).astype(float)) \n",
    "nestle_df['High']=(nestle_df['High'].astype(str).str.replace(r'[^\\d.]','',regex=True).astype(float))\n",
    "nestle_df['Low']=(nestle_df['Low'].astype(str).str.replace(r'[^\\d.]','',regex=True).astype(float))"
   ]
  },
  {
   "cell_type": "code",
   "execution_count": 23,
   "id": "17308175-f74f-409b-b143-9e43f76d2533",
   "metadata": {},
   "outputs": [],
   "source": [
    "# Cleaning and converting the values in the Volume column\n",
    "\n",
    "\n",
    "nestle_df['Vol.'] = nestle_df['Vol.'].astype(str).str.upper()  ### Convert Vol. column to string and uppercase everything\n",
    "\n",
    "\n",
    "clean_volume = []                             # Create an empty list to hold the cleaned numbers\n",
    "\n",
    "\n",
    "for val in nestle_df['Vol.']:                 #Loop through the values to clean them\n",
    "    if 'K' in val:\n",
    "        num = float(val.replace('K', ''))\n",
    "        clean_volume.append(num * 1000)\n",
    "    elif 'M' in val:\n",
    "        num = float(val.replace('M', ''))\n",
    "        clean_volume.append(num * 1000000)\n",
    "    else:\n",
    "        clean_volume.append(float(val))\n",
    "\n",
    "\n",
    "nestle_df['Vol.'] = clean_volume                    # Assign the cleaned values back to the Vol. column\n"
   ]
  },
  {
   "cell_type": "code",
   "execution_count": 24,
   "id": "e7381b55-0f25-4e4d-b918-19b6089fb379",
   "metadata": {},
   "outputs": [
    {
     "data": {
      "text/plain": [
       "Price    float64\n",
       "Open     float64\n",
       "High     float64\n",
       "Low      float64\n",
       "Vol.     float64\n",
       "dtype: object"
      ]
     },
     "execution_count": 24,
     "metadata": {},
     "output_type": "execute_result"
    }
   ],
   "source": [
    "### To confirm updated data types\n",
    "\n",
    "nestle_df.dtypes"
   ]
  },
  {
   "cell_type": "code",
   "execution_count": 25,
   "id": "3648e364-01dc-4d44-b9cf-ecc93b1f9b0b",
   "metadata": {},
   "outputs": [
    {
     "data": {
      "text/html": [
       "<div>\n",
       "<style scoped>\n",
       "    .dataframe tbody tr th:only-of-type {\n",
       "        vertical-align: middle;\n",
       "    }\n",
       "\n",
       "    .dataframe tbody tr th {\n",
       "        vertical-align: top;\n",
       "    }\n",
       "\n",
       "    .dataframe thead th {\n",
       "        text-align: right;\n",
       "    }\n",
       "</style>\n",
       "<table border=\"1\" class=\"dataframe\">\n",
       "  <thead>\n",
       "    <tr style=\"text-align: right;\">\n",
       "      <th></th>\n",
       "      <th>Price</th>\n",
       "      <th>Open</th>\n",
       "      <th>High</th>\n",
       "      <th>Low</th>\n",
       "      <th>Vol.</th>\n",
       "    </tr>\n",
       "    <tr>\n",
       "      <th>Date</th>\n",
       "      <th></th>\n",
       "      <th></th>\n",
       "      <th></th>\n",
       "      <th></th>\n",
       "      <th></th>\n",
       "    </tr>\n",
       "  </thead>\n",
       "  <tbody>\n",
       "    <tr>\n",
       "      <th>2024-12-31</th>\n",
       "      <td>875.0</td>\n",
       "      <td>875.0</td>\n",
       "      <td>875.0</td>\n",
       "      <td>875.0</td>\n",
       "      <td>13060.0</td>\n",
       "    </tr>\n",
       "    <tr>\n",
       "      <th>2024-12-30</th>\n",
       "      <td>875.0</td>\n",
       "      <td>875.0</td>\n",
       "      <td>875.0</td>\n",
       "      <td>875.0</td>\n",
       "      <td>45380.0</td>\n",
       "    </tr>\n",
       "    <tr>\n",
       "      <th>2024-12-27</th>\n",
       "      <td>875.0</td>\n",
       "      <td>875.0</td>\n",
       "      <td>875.0</td>\n",
       "      <td>875.0</td>\n",
       "      <td>27860.0</td>\n",
       "    </tr>\n",
       "    <tr>\n",
       "      <th>2024-12-24</th>\n",
       "      <td>875.0</td>\n",
       "      <td>875.0</td>\n",
       "      <td>875.0</td>\n",
       "      <td>875.0</td>\n",
       "      <td>10900.0</td>\n",
       "    </tr>\n",
       "    <tr>\n",
       "      <th>2024-12-23</th>\n",
       "      <td>875.0</td>\n",
       "      <td>875.0</td>\n",
       "      <td>875.0</td>\n",
       "      <td>875.0</td>\n",
       "      <td>22310.0</td>\n",
       "    </tr>\n",
       "    <tr>\n",
       "      <th>...</th>\n",
       "      <td>...</td>\n",
       "      <td>...</td>\n",
       "      <td>...</td>\n",
       "      <td>...</td>\n",
       "      <td>...</td>\n",
       "    </tr>\n",
       "    <tr>\n",
       "      <th>2020-01-08</th>\n",
       "      <td>1469.9</td>\n",
       "      <td>1469.9</td>\n",
       "      <td>0.0</td>\n",
       "      <td>0.0</td>\n",
       "      <td>183090.0</td>\n",
       "    </tr>\n",
       "    <tr>\n",
       "      <th>2020-01-07</th>\n",
       "      <td>1469.9</td>\n",
       "      <td>1469.9</td>\n",
       "      <td>0.0</td>\n",
       "      <td>0.0</td>\n",
       "      <td>266830.0</td>\n",
       "    </tr>\n",
       "    <tr>\n",
       "      <th>2020-01-06</th>\n",
       "      <td>1469.9</td>\n",
       "      <td>1469.9</td>\n",
       "      <td>0.0</td>\n",
       "      <td>0.0</td>\n",
       "      <td>21320.0</td>\n",
       "    </tr>\n",
       "    <tr>\n",
       "      <th>2020-01-03</th>\n",
       "      <td>1469.9</td>\n",
       "      <td>1469.9</td>\n",
       "      <td>0.0</td>\n",
       "      <td>0.0</td>\n",
       "      <td>47490.0</td>\n",
       "    </tr>\n",
       "    <tr>\n",
       "      <th>2020-01-02</th>\n",
       "      <td>1469.9</td>\n",
       "      <td>1469.9</td>\n",
       "      <td>0.0</td>\n",
       "      <td>0.0</td>\n",
       "      <td>6940.0</td>\n",
       "    </tr>\n",
       "  </tbody>\n",
       "</table>\n",
       "<p>1239 rows × 5 columns</p>\n",
       "</div>"
      ],
      "text/plain": [
       "             Price    Open   High    Low      Vol.\n",
       "Date                                              \n",
       "2024-12-31   875.0   875.0  875.0  875.0   13060.0\n",
       "2024-12-30   875.0   875.0  875.0  875.0   45380.0\n",
       "2024-12-27   875.0   875.0  875.0  875.0   27860.0\n",
       "2024-12-24   875.0   875.0  875.0  875.0   10900.0\n",
       "2024-12-23   875.0   875.0  875.0  875.0   22310.0\n",
       "...            ...     ...    ...    ...       ...\n",
       "2020-01-08  1469.9  1469.9    0.0    0.0  183090.0\n",
       "2020-01-07  1469.9  1469.9    0.0    0.0  266830.0\n",
       "2020-01-06  1469.9  1469.9    0.0    0.0   21320.0\n",
       "2020-01-03  1469.9  1469.9    0.0    0.0   47490.0\n",
       "2020-01-02  1469.9  1469.9    0.0    0.0    6940.0\n",
       "\n",
       "[1239 rows x 5 columns]"
      ]
     },
     "execution_count": 25,
     "metadata": {},
     "output_type": "execute_result"
    }
   ],
   "source": [
    "nestle_df"
   ]
  },
  {
   "cell_type": "code",
   "execution_count": null,
   "id": "f22416e9-9a20-4590-adbb-9d79f9d7df83",
   "metadata": {},
   "outputs": [],
   "source": []
  },
  {
   "cell_type": "code",
   "execution_count": null,
   "id": "1def1e80-55a5-4105-8387-ded9ed41b264",
   "metadata": {},
   "outputs": [],
   "source": []
  },
  {
   "cell_type": "code",
   "execution_count": null,
   "id": "bdd70da4-37ae-473a-95ff-ce68647e9d24",
   "metadata": {},
   "outputs": [],
   "source": []
  },
  {
   "cell_type": "code",
   "execution_count": null,
   "id": "74b8007a-b886-4487-999c-1c0e1961a053",
   "metadata": {},
   "outputs": [],
   "source": []
  },
  {
   "cell_type": "code",
   "execution_count": null,
   "id": "3885578e-7df6-4c71-b1d9-cd8dd19034f7",
   "metadata": {},
   "outputs": [],
   "source": []
  }
 ],
 "metadata": {
  "kernelspec": {
   "display_name": "Python 3 (ipykernel)",
   "language": "python",
   "name": "python3"
  },
  "language_info": {
   "codemirror_mode": {
    "name": "ipython",
    "version": 3
   },
   "file_extension": ".py",
   "mimetype": "text/x-python",
   "name": "python",
   "nbconvert_exporter": "python",
   "pygments_lexer": "ipython3",
   "version": "3.12.7"
  }
 },
 "nbformat": 4,
 "nbformat_minor": 5
}
